{
 "cells": [
  {
   "cell_type": "markdown",
   "metadata": {},
   "source": [
    "# Classifying movie reviews:\n",
    "a binary classification example\n",
    "The IMDB dataset"
   ]
  },
  {
   "cell_type": "code",
   "execution_count": null,
   "metadata": {},
   "outputs": [],
   "source": [
    "FOR EXAMPLE\n",
    "review: Fantastic\n",
    "Number Name: 55\n",
    "One hot encode:\n",
    "    vocabulary is of 10 words\n",
    "    0 0 0 0 0 0 0 0 0 0\n",
    "    0 0 0 0 0 0 0 0 0 0\n",
    "    0 1 0 0 0 0 0 0 0 0   ----> 55\n",
    "    if word \"bad\" comes in review\n",
    "    0 0 0 0 0 0 0 0 0 0\n",
    "    0 0 0 0 0 0 0 0 0 0\n",
    "    0 1 0 0 0 0 0 0 0 0\n",
    "    0 0 0 0 0 0 0 1 0 0 ---->bad\n",
    "    \n",
    "The vector containing all reviews all vector will make one hot encode each word. \n",
    "size of sequence=10000\n"
   ]
  },
  {
   "cell_type": "code",
   "execution_count": 4,
   "metadata": {},
   "outputs": [],
   "source": [
    "import tensorflow"
   ]
  },
  {
   "cell_type": "code",
   "execution_count": 5,
   "metadata": {},
   "outputs": [],
   "source": [
    "from tensorflow.keras.datasets import imdb\n",
    "(train_data, train_labels), (test_data, test_labels) = imdb.load_data(num_words=10000)\n",
    "#restricting to top 9999 most frequent words\n",
    "#assigning an int number to each word\n",
    "#then convert int to make it understandable for system\n",
    "#for example word \"Dataset\" in a collection of 200 words has an integer label 9\n",
    "#if we one hot encode this, vector size will be 200 for each word\n",
    "#in our case vector size would be 10000\n",
    "#no need to one hot encode in binary case"
   ]
  },
  {
   "cell_type": "code",
   "execution_count": 6,
   "metadata": {},
   "outputs": [
    {
     "data": {
      "text/plain": [
       "[1,\n",
       " 14,\n",
       " 22,\n",
       " 16,\n",
       " 43,\n",
       " 530,\n",
       " 973,\n",
       " 1622,\n",
       " 1385,\n",
       " 65,\n",
       " 458,\n",
       " 4468,\n",
       " 66,\n",
       " 3941,\n",
       " 4,\n",
       " 173,\n",
       " 36,\n",
       " 256,\n",
       " 5,\n",
       " 25,\n",
       " 100,\n",
       " 43,\n",
       " 838,\n",
       " 112,\n",
       " 50,\n",
       " 670,\n",
       " 2,\n",
       " 9,\n",
       " 35,\n",
       " 480,\n",
       " 284,\n",
       " 5,\n",
       " 150,\n",
       " 4,\n",
       " 172,\n",
       " 112,\n",
       " 167,\n",
       " 2,\n",
       " 336,\n",
       " 385,\n",
       " 39,\n",
       " 4,\n",
       " 172,\n",
       " 4536,\n",
       " 1111,\n",
       " 17,\n",
       " 546,\n",
       " 38,\n",
       " 13,\n",
       " 447,\n",
       " 4,\n",
       " 192,\n",
       " 50,\n",
       " 16,\n",
       " 6,\n",
       " 147,\n",
       " 2025,\n",
       " 19,\n",
       " 14,\n",
       " 22,\n",
       " 4,\n",
       " 1920,\n",
       " 4613,\n",
       " 469,\n",
       " 4,\n",
       " 22,\n",
       " 71,\n",
       " 87,\n",
       " 12,\n",
       " 16,\n",
       " 43,\n",
       " 530,\n",
       " 38,\n",
       " 76,\n",
       " 15,\n",
       " 13,\n",
       " 1247,\n",
       " 4,\n",
       " 22,\n",
       " 17,\n",
       " 515,\n",
       " 17,\n",
       " 12,\n",
       " 16,\n",
       " 626,\n",
       " 18,\n",
       " 2,\n",
       " 5,\n",
       " 62,\n",
       " 386,\n",
       " 12,\n",
       " 8,\n",
       " 316,\n",
       " 8,\n",
       " 106,\n",
       " 5,\n",
       " 4,\n",
       " 2223,\n",
       " 5244,\n",
       " 16,\n",
       " 480,\n",
       " 66,\n",
       " 3785,\n",
       " 33,\n",
       " 4,\n",
       " 130,\n",
       " 12,\n",
       " 16,\n",
       " 38,\n",
       " 619,\n",
       " 5,\n",
       " 25,\n",
       " 124,\n",
       " 51,\n",
       " 36,\n",
       " 135,\n",
       " 48,\n",
       " 25,\n",
       " 1415,\n",
       " 33,\n",
       " 6,\n",
       " 22,\n",
       " 12,\n",
       " 215,\n",
       " 28,\n",
       " 77,\n",
       " 52,\n",
       " 5,\n",
       " 14,\n",
       " 407,\n",
       " 16,\n",
       " 82,\n",
       " 2,\n",
       " 8,\n",
       " 4,\n",
       " 107,\n",
       " 117,\n",
       " 5952,\n",
       " 15,\n",
       " 256,\n",
       " 4,\n",
       " 2,\n",
       " 7,\n",
       " 3766,\n",
       " 5,\n",
       " 723,\n",
       " 36,\n",
       " 71,\n",
       " 43,\n",
       " 530,\n",
       " 476,\n",
       " 26,\n",
       " 400,\n",
       " 317,\n",
       " 46,\n",
       " 7,\n",
       " 4,\n",
       " 2,\n",
       " 1029,\n",
       " 13,\n",
       " 104,\n",
       " 88,\n",
       " 4,\n",
       " 381,\n",
       " 15,\n",
       " 297,\n",
       " 98,\n",
       " 32,\n",
       " 2071,\n",
       " 56,\n",
       " 26,\n",
       " 141,\n",
       " 6,\n",
       " 194,\n",
       " 7486,\n",
       " 18,\n",
       " 4,\n",
       " 226,\n",
       " 22,\n",
       " 21,\n",
       " 134,\n",
       " 476,\n",
       " 26,\n",
       " 480,\n",
       " 5,\n",
       " 144,\n",
       " 30,\n",
       " 5535,\n",
       " 18,\n",
       " 51,\n",
       " 36,\n",
       " 28,\n",
       " 224,\n",
       " 92,\n",
       " 25,\n",
       " 104,\n",
       " 4,\n",
       " 226,\n",
       " 65,\n",
       " 16,\n",
       " 38,\n",
       " 1334,\n",
       " 88,\n",
       " 12,\n",
       " 16,\n",
       " 283,\n",
       " 5,\n",
       " 16,\n",
       " 4472,\n",
       " 113,\n",
       " 103,\n",
       " 32,\n",
       " 15,\n",
       " 16,\n",
       " 5345,\n",
       " 19,\n",
       " 178,\n",
       " 32]"
      ]
     },
     "execution_count": 6,
     "metadata": {},
     "output_type": "execute_result"
    }
   ],
   "source": [
    "train_data[0]\n",
    "#every word has a int value"
   ]
  },
  {
   "cell_type": "code",
   "execution_count": 7,
   "metadata": {},
   "outputs": [
    {
     "data": {
      "text/plain": [
       "1"
      ]
     },
     "execution_count": 7,
     "metadata": {},
     "output_type": "execute_result"
    }
   ],
   "source": [
    "train_labels[0]"
   ]
  },
  {
   "cell_type": "code",
   "execution_count": 8,
   "metadata": {},
   "outputs": [
    {
     "data": {
      "text/plain": [
       "9999"
      ]
     },
     "execution_count": 8,
     "metadata": {},
     "output_type": "execute_result"
    }
   ],
   "source": [
    "max([max(sequence) for sequence in train_data])"
   ]
  },
  {
   "cell_type": "code",
   "execution_count": 9,
   "metadata": {},
   "outputs": [],
   "source": [
    "word_index = imdb.get_word_index()\n",
    "reverse_word_index = dict(\n",
    "[(value, key) for (key, value) in word_index.items()])\n",
    "decoded_review = ' '.join(\n",
    "[reverse_word_index.get(i - 3, '?') for i in train_data[0]])"
   ]
  },
  {
   "cell_type": "code",
   "execution_count": 10,
   "metadata": {},
   "outputs": [],
   "source": [
    "import numpy as np"
   ]
  },
  {
   "cell_type": "code",
   "execution_count": 11,
   "metadata": {},
   "outputs": [],
   "source": [
    "def vectorize_sequences(sequences, dimension=10000):  #sequence represents all reviews.\n",
    "    results = np.zeros((len(sequences), dimension))   #(25000,10000)    #manual one hot encoding ONE WORD then repeat this on 25000 reviews \n",
    "    for i, sequence in enumerate(sequences):              #one hot encode EVERY WORD\n",
    "        results[i, sequence] = 1.         \n",
    "    return results\n",
    "x_train = vectorize_sequences(train_data)    #train and test data converted to 0s and 1s\n",
    "x_test = vectorize_sequences(test_data)"
   ]
  },
  {
   "cell_type": "code",
   "execution_count": 12,
   "metadata": {},
   "outputs": [
    {
     "data": {
      "text/plain": [
       "array([0., 1., 1., ..., 0., 0., 0.])"
      ]
     },
     "execution_count": 12,
     "metadata": {},
     "output_type": "execute_result"
    }
   ],
   "source": [
    " x_train[0]"
   ]
  },
  {
   "cell_type": "code",
   "execution_count": 13,
   "metadata": {},
   "outputs": [],
   "source": [
    "y_train = np.asarray(train_labels).astype('float32')\n",
    "y_test = np.asarray(test_labels).astype('float32')"
   ]
  },
  {
   "cell_type": "code",
   "execution_count": 17,
   "metadata": {},
   "outputs": [],
   "source": [
    "from tensorflow.keras import models          #changes made here to improve accuracy\n",
    "from tensorflow.keras import layers\n",
    "model = models.Sequential()\n",
    "model.add(layers.Dense(16, activation='relu', input_shape=(10000,)))\n",
    "model.add(layers.Dense(16, activation='relu'))\n",
    "model.add(layers.Dense(1, activation='sigmoid'))"
   ]
  },
  {
   "cell_type": "code",
   "execution_count": 19,
   "metadata": {},
   "outputs": [],
   "source": [
    "from tensorflow.keras import optimizers\n",
    "model.compile(optimizer=optimizers.RMSprop(lr=0.001),\n",
    "loss='binary_crossentropy',\n",
    "metrics=['accuracy'])"
   ]
  },
  {
   "cell_type": "code",
   "execution_count": 20,
   "metadata": {},
   "outputs": [],
   "source": [
    "#validation\n",
    "#to not expose test data\n",
    "x_val = x_train[:10000]\n",
    "partial_x_train = x_train[10000:]\n",
    "y_val = y_train[:10000]\n",
    "partial_y_train = y_train[10000:]"
   ]
  },
  {
   "cell_type": "code",
   "execution_count": 21,
   "metadata": {},
   "outputs": [
    {
     "name": "stdout",
     "output_type": "stream",
     "text": [
      "Train on 15000 samples, validate on 10000 samples\n",
      "Epoch 1/20\n",
      "15000/15000 [==============================] - 6s 398us/sample - loss: 0.5036 - accuracy: 0.7949 - val_loss: 0.4113 - val_accuracy: 0.8303\n",
      "Epoch 2/20\n",
      "15000/15000 [==============================] - 2s 158us/sample - loss: 0.2994 - accuracy: 0.9054 - val_loss: 0.3039 - val_accuracy: 0.8854\n",
      "Epoch 3/20\n",
      "15000/15000 [==============================] - 2s 143us/sample - loss: 0.2204 - accuracy: 0.9284 - val_loss: 0.2976 - val_accuracy: 0.8815\n",
      "Epoch 4/20\n",
      "15000/15000 [==============================] - 2s 127us/sample - loss: 0.1726 - accuracy: 0.9448 - val_loss: 0.2891 - val_accuracy: 0.8840\n",
      "Epoch 5/20\n",
      "15000/15000 [==============================] - 2s 135us/sample - loss: 0.1422 - accuracy: 0.9547 - val_loss: 0.2817 - val_accuracy: 0.8873\n",
      "Epoch 6/20\n",
      "15000/15000 [==============================] - 2s 141us/sample - loss: 0.1191 - accuracy: 0.9607 - val_loss: 0.2964 - val_accuracy: 0.8849\n",
      "Epoch 7/20\n",
      "15000/15000 [==============================] - 2s 147us/sample - loss: 0.0970 - accuracy: 0.9721 - val_loss: 0.3181 - val_accuracy: 0.8804\n",
      "Epoch 8/20\n",
      "15000/15000 [==============================] - 2s 133us/sample - loss: 0.0814 - accuracy: 0.9770 - val_loss: 0.3288 - val_accuracy: 0.8818\n",
      "Epoch 9/20\n",
      "15000/15000 [==============================] - 2s 128us/sample - loss: 0.0665 - accuracy: 0.9837 - val_loss: 0.3837 - val_accuracy: 0.8710\n",
      "Epoch 10/20\n",
      "15000/15000 [==============================] - 2s 130us/sample - loss: 0.0557 - accuracy: 0.9849 - val_loss: 0.3976 - val_accuracy: 0.8713\n",
      "Epoch 11/20\n",
      "15000/15000 [==============================] - 2s 137us/sample - loss: 0.0447 - accuracy: 0.9896 - val_loss: 0.4291 - val_accuracy: 0.8681\n",
      "Epoch 12/20\n",
      "15000/15000 [==============================] - 2s 133us/sample - loss: 0.0347 - accuracy: 0.9932 - val_loss: 0.4403 - val_accuracy: 0.8713\n",
      "Epoch 13/20\n",
      "15000/15000 [==============================] - 2s 133us/sample - loss: 0.0296 - accuracy: 0.9937 - val_loss: 0.4659 - val_accuracy: 0.8721\n",
      "Epoch 14/20\n",
      "15000/15000 [==============================] - 2s 129us/sample - loss: 0.0238 - accuracy: 0.9954 - val_loss: 0.5046 - val_accuracy: 0.8677\n",
      "Epoch 15/20\n",
      "15000/15000 [==============================] - 2s 139us/sample - loss: 0.0176 - accuracy: 0.9981 - val_loss: 0.5333 - val_accuracy: 0.8719\n",
      "Epoch 16/20\n",
      "15000/15000 [==============================] - 2s 135us/sample - loss: 0.0139 - accuracy: 0.9983 - val_loss: 0.5961 - val_accuracy: 0.8684\n",
      "Epoch 17/20\n",
      "15000/15000 [==============================] - 2s 130us/sample - loss: 0.0123 - accuracy: 0.9983 - val_loss: 0.5994 - val_accuracy: 0.8690\n",
      "Epoch 18/20\n",
      "15000/15000 [==============================] - 2s 132us/sample - loss: 0.0094 - accuracy: 0.9982 - val_loss: 0.6428 - val_accuracy: 0.8653\n",
      "Epoch 19/20\n",
      "15000/15000 [==============================] - 2s 139us/sample - loss: 0.0049 - accuracy: 0.9998 - val_loss: 0.6676 - val_accuracy: 0.8659\n",
      "Epoch 20/20\n",
      "15000/15000 [==============================] - 2s 137us/sample - loss: 0.0072 - accuracy: 0.9983 - val_loss: 0.7072 - val_accuracy: 0.8653\n"
     ]
    }
   ],
   "source": [
    "history = model.fit(partial_x_train,\n",
    "partial_y_train,\n",
    "epochs=20,\n",
    "batch_size=512,\n",
    "validation_data=(x_val, y_val))"
   ]
  },
  {
   "cell_type": "code",
   "execution_count": 22,
   "metadata": {},
   "outputs": [],
   "source": [
    "#2 models 2 accuracies training and validation\n",
    "#max trained after 5 epoch, affecting accuracy after that\n",
    "history_dict = history.history"
   ]
  },
  {
   "cell_type": "code",
   "execution_count": 23,
   "metadata": {},
   "outputs": [
    {
     "data": {
      "text/plain": [
       "dict_keys(['loss', 'accuracy', 'val_loss', 'val_accuracy'])"
      ]
     },
     "execution_count": 23,
     "metadata": {},
     "output_type": "execute_result"
    }
   ],
   "source": [
    "history_dict.keys()"
   ]
  },
  {
   "cell_type": "code",
   "execution_count": 25,
   "metadata": {},
   "outputs": [
    {
     "data": {
      "image/png": "[encoded data removed]",
      "text/plain": [
       "<Figure size 432x288 with 1 Axes>"
      ]
     },
     "metadata": {
      "needs_background": "light"
     },
     "output_type": "display_data"
    }
   ],
   "source": [
    "import matplotlib.pyplot as plt\n",
    "history_dict = history.history\n",
    "loss_values = history_dict['loss']\n",
    "val_loss_values = history_dict['val_loss']\n",
    "\n",
    "epochs = range(1, len(loss_values) + 1)  #kept dynamic bc epoch changes, working on loss values or val loss values to get epoch count\n",
    "\n",
    "plt.plot(epochs, loss_values, 'bo', label='Training loss')  #bo for blue circle \n",
    "plt.plot(epochs, val_loss_values, 'b', label='Validation loss')     #b for blue\n",
    "plt.title('Training and validation loss')\n",
    "plt.xlabel('Epochs')\n",
    "plt.ylabel('Loss')\n",
    "plt.legend()\n",
    "plt.show()"
   ]
  },
  {
   "cell_type": "code",
   "execution_count": null,
   "metadata": {},
   "outputs": [],
   "source": []
  }
 ],
 "metadata": {
  "kernelspec": {
   "display_name": "Python 3",
   "language": "python",
   "name": "python3"
  },
  "language_info": {
   "codemirror_mode": {
    "name": "ipython",
    "version": 3
   },
   "file_extension": ".py",
   "mimetype": "text/x-python",
   "name": "python",
   "nbconvert_exporter": "python",
   "pygments_lexer": "ipython3",
   "version": "3.7.3"
  }
 },
 "nbformat": 4,
 "nbformat_minor": 2
}
