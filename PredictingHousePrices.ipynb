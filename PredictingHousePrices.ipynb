{
  "nbformat": 4,
  "nbformat_minor": 0,
  "metadata": {
    "colab": {
      "name": "PredictingHousePrices.ipynb",
      "provenance": []
    },
    "kernelspec": {
      "name": "python3",
      "display_name": "Python 3"
    }
  },
  "cells": [
    {
      "cell_type": "code",
      "metadata": {
        "id": "hx2ZISWZKAGz",
        "colab_type": "code",
        "colab": {}
      },
      "source": [
        "Regression has a scaler continuous value. Using normalization x-mean/deviation. No activation function is used in the last layer of regression model. Mean square error is used as loss function in regression. "
      ],
      "execution_count": 0,
      "outputs": []
    },
    {
      "cell_type": "code",
      "metadata": {
        "id": "aPnc0SOeK8mN",
        "colab_type": "code",
        "colab": {}
      },
      "source": [
        "import tensorflow as tf"
      ],
      "execution_count": 0,
      "outputs": []
    },
    {
      "cell_type": "code",
      "metadata": {
        "id": "BCl4V90kK9LK",
        "colab_type": "code",
        "colab": {}
      },
      "source": [
        "from tensorflow.keras.datasets import boston_housing\n",
        "from tensorflow.keras import models, layers, optimizers, utils\n",
        "import numpy as np\n",
        "import matplotlib.pyplot as plt"
      ],
      "execution_count": 0,
      "outputs": []
    },
    {
      "cell_type": "markdown",
      "metadata": {
        "id": "k7CLd9zELy9K",
        "colab_type": "text"
      },
      "source": [
        "## Load Dataset"
      ]
    },
    {
      "cell_type": "code",
      "metadata": {
        "id": "XZE0unAWK9TF",
        "colab_type": "code",
        "colab": {
          "base_uri": "https://localhost:8080/",
          "height": 50
        },
        "outputId": "fd4c4340-2a5b-4a74-a052-5567f646a1e0"
      },
      "source": [
        "(train_data, train_targets), (test_data, test_targets) = boston_housing.load_data()"
      ],
      "execution_count": 5,
      "outputs": [
        {
          "output_type": "stream",
          "text": [
            "Downloading data from https://storage.googleapis.com/tensorflow/tf-keras-datasets/boston_housing.npz\n",
            "57344/57026 [==============================] - 0s 0us/step\n"
          ],
          "name": "stdout"
        }
      ]
    },
    {
      "cell_type": "code",
      "metadata": {
        "id": "F0-X_mljK9al",
        "colab_type": "code",
        "colab": {
          "base_uri": "https://localhost:8080/",
          "height": 34
        },
        "outputId": "eb8faa8f-aa45-4ae0-ba7e-7a9ea2040470"
      },
      "source": [
        "print(train_data.shape)"
      ],
      "execution_count": 16,
      "outputs": [
        {
          "output_type": "stream",
          "text": [
            "(404, 13)\n"
          ],
          "name": "stdout"
        }
      ]
    },
    {
      "cell_type": "code",
      "metadata": {
        "id": "vVpBv7-ZK9hz",
        "colab_type": "code",
        "colab": {
          "base_uri": "https://localhost:8080/",
          "height": 34
        },
        "outputId": "27ec457b-1caa-4c5a-d21e-81862fa6829a"
      },
      "source": [
        "print(test_data.shape)"
      ],
      "execution_count": 7,
      "outputs": [
        {
          "output_type": "stream",
          "text": [
            "(102, 13)\n"
          ],
          "name": "stdout"
        }
      ]
    },
    {
      "cell_type": "code",
      "metadata": {
        "id": "Y5Ye4yk1K9o6",
        "colab_type": "code",
        "colab": {
          "base_uri": "https://localhost:8080/",
          "height": 504
        },
        "outputId": "2671e604-db3a-417f-f125-b9ebe2cf82fd"
      },
      "source": [
        "print(train_targets)"
      ],
      "execution_count": 10,
      "outputs": [
        {
          "output_type": "stream",
          "text": [
            "[15.2 42.3 50.  21.1 17.7 18.5 11.3 15.6 15.6 14.4 12.1 17.9 23.1 19.9\n",
            " 15.7  8.8 50.  22.5 24.1 27.5 10.9 30.8 32.9 24.  18.5 13.3 22.9 34.7\n",
            " 16.6 17.5 22.3 16.1 14.9 23.1 34.9 25.  13.9 13.1 20.4 20.  15.2 24.7\n",
            " 22.2 16.7 12.7 15.6 18.4 21.  30.1 15.1 18.7  9.6 31.5 24.8 19.1 22.\n",
            " 14.5 11.  32.  29.4 20.3 24.4 14.6 19.5 14.1 14.3 15.6 10.5  6.3 19.3\n",
            " 19.3 13.4 36.4 17.8 13.5 16.5  8.3 14.3 16.  13.4 28.6 43.5 20.2 22.\n",
            " 23.  20.7 12.5 48.5 14.6 13.4 23.7 50.  21.7 39.8 38.7 22.2 34.9 22.5\n",
            " 31.1 28.7 46.  41.7 21.  26.6 15.  24.4 13.3 21.2 11.7 21.7 19.4 50.\n",
            " 22.8 19.7 24.7 36.2 14.2 18.9 18.3 20.6 24.6 18.2  8.7 44.  10.4 13.2\n",
            " 21.2 37.  30.7 22.9 20.  19.3 31.7 32.  23.1 18.8 10.9 50.  19.6  5.\n",
            " 14.4 19.8 13.8 19.6 23.9 24.5 25.  19.9 17.2 24.6 13.5 26.6 21.4 11.9\n",
            " 22.6 19.6  8.5 23.7 23.1 22.4 20.5 23.6 18.4 35.2 23.1 27.9 20.6 23.7\n",
            " 28.  13.6 27.1 23.6 20.6 18.2 21.7 17.1  8.4 25.3 13.8 22.2 18.4 20.7\n",
            " 31.6 30.5 20.3  8.8 19.2 19.4 23.1 23.  14.8 48.8 22.6 33.4 21.1 13.6\n",
            " 32.2 13.1 23.4 18.9 23.9 11.8 23.3 22.8 19.6 16.7 13.4 22.2 20.4 21.8\n",
            " 26.4 14.9 24.1 23.8 12.3 29.1 21.  19.5 23.3 23.8 17.8 11.5 21.7 19.9\n",
            " 25.  33.4 28.5 21.4 24.3 27.5 33.1 16.2 23.3 48.3 22.9 22.8 13.1 12.7\n",
            " 22.6 15.  15.3 10.5 24.  18.5 21.7 19.5 33.2 23.2  5.  19.1 12.7 22.3\n",
            " 10.2 13.9 16.3 17.  20.1 29.9 17.2 37.3 45.4 17.8 23.2 29.  22.  18.\n",
            " 17.4 34.6 20.1 25.  15.6 24.8 28.2 21.2 21.4 23.8 31.  26.2 17.4 37.9\n",
            " 17.5 20.   8.3 23.9  8.4 13.8  7.2 11.7 17.1 21.6 50.  16.1 20.4 20.6\n",
            " 21.4 20.6 36.5  8.5 24.8 10.8 21.9 17.3 18.9 36.2 14.9 18.2 33.3 21.8\n",
            " 19.7 31.6 24.8 19.4 22.8  7.5 44.8 16.8 18.7 50.  50.  19.5 20.1 50.\n",
            " 17.2 20.8 19.3 41.3 20.4 20.5 13.8 16.5 23.9 20.6 31.5 23.3 16.8 14.\n",
            " 33.8 36.1 12.8 18.3 18.7 19.1 29.  30.1 50.  50.  22.  11.9 37.6 50.\n",
            " 22.7 20.8 23.5 27.9 50.  19.3 23.9 22.6 15.2 21.7 19.2 43.8 20.3 33.2\n",
            " 19.9 22.5 32.7 22.  17.1 19.  15.  16.1 25.1 23.7 28.7 37.2 22.6 16.4\n",
            " 25.  29.8 22.1 17.4 18.1 30.3 17.5 24.7 12.6 26.5 28.7 13.3 10.4 24.4\n",
            " 23.  20.  17.8  7.  11.8 24.4 13.8 19.4 25.2 19.4 19.4 29.1]\n"
          ],
          "name": "stdout"
        }
      ]
    },
    {
      "cell_type": "code",
      "metadata": {
        "id": "2lHlQRX6PvL5",
        "colab_type": "code",
        "colab": {
          "base_uri": "https://localhost:8080/",
          "height": 34
        },
        "outputId": "3324d809-9383-414b-d684-378fcc5fc936"
      },
      "source": [
        "train_targets[0]"
      ],
      "execution_count": 13,
      "outputs": [
        {
          "output_type": "execute_result",
          "data": {
            "text/plain": [
              "15.2"
            ]
          },
          "metadata": {
            "tags": []
          },
          "execution_count": 13
        }
      ]
    },
    {
      "cell_type": "code",
      "metadata": {
        "id": "b29wLO5eMy1s",
        "colab_type": "code",
        "colab": {}
      },
      "source": [
        "Preparing the data"
      ],
      "execution_count": 0,
      "outputs": []
    },
    {
      "cell_type": "code",
      "metadata": {
        "id": "4fsxGK_pNBrs",
        "colab_type": "code",
        "colab": {}
      },
      "source": [
        "mean = train_data.mean(axis=0)\n",
        "train_data -= mean\n",
        "std = train_data.std(axis=0)\n",
        "train_data /= std\n",
        "test_data -= mean\n",
        "test_data /= std"
      ],
      "execution_count": 0,
      "outputs": []
    },
    {
      "cell_type": "markdown",
      "metadata": {
        "id": "IP2f4JK3Qwoz",
        "colab_type": "text"
      },
      "source": [
        "## Building the network"
      ]
    },
    {
      "cell_type": "code",
      "metadata": {
        "id": "9Y4sLHk9NB73",
        "colab_type": "code",
        "colab": {
          "base_uri": "https://localhost:8080/",
          "height": 34
        },
        "outputId": "d9068633-f6f1-4a90-ebbb-b6613e6b3aab"
      },
      "source": [
        "def build_model():\n",
        "    model = models.Sequential()\n",
        "    model.add(layers.Dense(64, activation='relu',\n",
        "    input_shape=(train_data.shape[1],)))\n",
        "    model.add(layers.Dense(64, activation='relu'))\n",
        "    model.add(layers.Dense(1))\n",
        "    model.compile(optimizer='rmsprop', loss='mse', metrics=['mae'])\n",
        "    return model"
      ],
      "execution_count": 17,
      "outputs": [
        {
          "output_type": "stream",
          "text": [
            "ERROR! Session/line number was not unique in database. History logging moved to new session 59\n"
          ],
          "name": "stdout"
        }
      ]
    },
    {
      "cell_type": "code",
      "metadata": {
        "id": "2fQesnWkTsgT",
        "colab_type": "code",
        "colab": {}
      },
      "source": [
        "k=4\n",
        "num_val_samples = len(train_data) // k\n",
        "num_epochs = 500\n",
        "all_scores = []\n",
        "all_mae_histories = []"
      ],
      "execution_count": 0,
      "outputs": []
    },
    {
      "cell_type": "code",
      "metadata": {
        "id": "3WifL-2kTsjc",
        "colab_type": "code",
        "colab": {
          "base_uri": "https://localhost:8080/",
          "height": 84
        },
        "outputId": "6848b26d-b8cb-440c-db11-ee392f0536a1"
      },
      "source": [
        "for i in range(k):\n",
        "    print('processing fold #', i)\n",
        "    val_data = train_data[i * num_val_samples: (i + 1) * num_val_samples]\n",
        "    val_targets = train_targets[i * num_val_samples: (i + 1) * num_val_samples]\n",
        "    \n",
        "    partial_train_data = np.concatenate([train_data[:i * num_val_samples], train_data[(i + 1) * num_val_samples:]], axis=0)\n",
        "    partial_train_targets = np.concatenate([train_targets[:i * num_val_samples], train_targets[(i + 1) * num_val_samples:]], axis=0)\n",
        "    \n",
        "    model = build_model()\n",
        "    history=model.fit(partial_train_data, partial_train_targets, epochs=num_epochs, batch_size=1, verbose=0)\n",
        "    \n",
        "    val_mse, val_mae = model.evaluate(val_data, val_targets, verbose=0)\n",
        "    all_scores.append(val_mae)\n",
        "    mae_history = history.history['mae']\n",
        "    all_mae_histories.append(mae_history)"
      ],
      "execution_count": 28,
      "outputs": [
        {
          "output_type": "stream",
          "text": [
            "processing fold # 0\n",
            "processing fold # 1\n",
            "processing fold # 2\n",
            "processing fold # 3\n"
          ],
          "name": "stdout"
        }
      ]
    },
    {
      "cell_type": "markdown",
      "metadata": {
        "id": "olEAA1-GbtdA",
        "colab_type": "text"
      },
      "source": [
        "# Errors"
      ]
    },
    {
      "cell_type": "code",
      "metadata": {
        "id": "698QPi4ITsma",
        "colab_type": "code",
        "colab": {
          "base_uri": "https://localhost:8080/",
          "height": 34
        },
        "outputId": "e804491d-b893-4213-fb57-82c3235010a1"
      },
      "source": [
        " print(\"all fold validation errors\",all_scores)"
      ],
      "execution_count": 29,
      "outputs": [
        {
          "output_type": "stream",
          "text": [
            "all fold validation errors [2.308567523956299, 3.038454055786133, 2.654994010925293, 3.0297296047210693]\n"
          ],
          "name": "stdout"
        }
      ]
    },
    {
      "cell_type": "code",
      "metadata": {
        "id": "JUVHAMcTWHcA",
        "colab_type": "code",
        "colab": {
          "base_uri": "https://localhost:8080/",
          "height": 34
        },
        "outputId": "35a7b9c7-7009-451d-ddc0-f68434bedfc0"
      },
      "source": [
        " print(\"mean of all fold validation errors\",np.mean(all_scores))"
      ],
      "execution_count": 30,
      "outputs": [
        {
          "output_type": "stream",
          "text": [
            "mean of all fold validation errors 2.7579362988471985\n"
          ],
          "name": "stdout"
        }
      ]
    },
    {
      "cell_type": "code",
      "metadata": {
        "id": "naiSdP1YXVOv",
        "colab_type": "code",
        "colab": {
          "base_uri": "https://localhost:8080/",
          "height": 70
        },
        "outputId": "323a7245-a60f-4228-e7fd-178e849811ff"
      },
      "source": [
        "average_mae_history = [\n",
        "np.mean([x[i] for x in all_mae_histories]) for i in range(num_epochs)]\n",
        "print(\"average mae Mae history\", average_mae_history)"
      ],
      "execution_count": 31,
      "outputs": [
        {
          "output_type": "stream",
          "text": [
            "average mae Mae history [10.840521335601807, 3.651333272457123, 3.0240127444267273, 2.7440998554229736, 2.583215594291687, 2.4443135261535645, 2.383009672164917, 2.3586835265159607, 2.2753774523735046, 2.2348305583000183, 2.1982412934303284, 2.1804869771003723, 2.1068694591522217, 2.1299928426742554, 2.099458694458008, 2.064920127391815, 2.05684295296669, 2.033280223608017, 2.022768020629883, 1.97808176279068, 1.9907236695289612, 1.9493027925491333, 1.952101856470108, 1.9238226413726807, 1.8950686156749725, 1.9232847094535828, 1.8882246017456055, 1.8740638494491577, 1.8844464421272278, 1.8378663063049316, 1.8200966715812683, 1.806275486946106, 1.8013258278369904, 1.8040919601917267, 1.8240060806274414, 1.7871329188346863, 1.7469244301319122, 1.7565466165542603, 1.7429524660110474, 1.7297815382480621, 1.7289729416370392, 1.6941013634204865, 1.710580974817276, 1.6767549216747284, 1.6685090959072113, 1.673734575510025, 1.6398487389087677, 1.6555496156215668, 1.6727044582366943, 1.6330775320529938, 1.6385034024715424, 1.607202261686325, 1.5965371429920197, 1.6119464039802551, 1.5782479643821716, 1.5851806998252869, 1.5704401433467865, 1.5463699400424957, 1.5289641618728638, 1.5701135098934174, 1.543416053056717, 1.514857292175293, 1.5386424660682678, 1.487252950668335, 1.512730062007904, 1.510426104068756, 1.5292797088623047, 1.4820666015148163, 1.4839191734790802, 1.4812595546245575, 1.4607792794704437, 1.456983208656311, 1.4575557708740234, 1.4269164502620697, 1.4509539902210236, 1.4496765732765198, 1.4329487681388855, 1.4296685755252838, 1.4247623682022095, 1.3994205594062805, 1.3936767280101776, 1.393479734659195, 1.4039067029953003, 1.3497394025325775, 1.3671071231365204, 1.3680468201637268, 1.3673027455806732, 1.369189441204071, 1.3718939423561096, 1.3455152809619904, 1.3630327582359314, 1.333509385585785, 1.338960975408554, 1.326404184103012, 1.2783004343509674, 1.2960938811302185, 1.30245640873909, 1.2965517342090607, 1.3181943595409393, 1.2760370671749115, 1.2944691181182861, 1.2726002633571625, 1.285295695066452, 1.2632104754447937, 1.263270378112793, 1.279331624507904, 1.2685839533805847, 1.2534150779247284, 1.2898356914520264, 1.273301899433136, 1.2396680116653442, 1.231120616197586, 1.2471522986888885, 1.190481275320053, 1.2124780416488647, 1.2397258579730988, 1.2142004072666168, 1.2212800085544586, 1.2023509442806244, 1.1956171989440918, 1.1891542077064514, 1.195999950170517, 1.2067419290542603, 1.2030468583106995, 1.1716229617595673, 1.1523665189743042, 1.1794666647911072, 1.1564272046089172, 1.1918335258960724, 1.1593647599220276, 1.1311169266700745, 1.1619076430797577, 1.1549330055713654, 1.135996550321579, 1.158335953950882, 1.1231346428394318, 1.1362236440181732, 1.1531549096107483, 1.1577580869197845, 1.135523945093155, 1.1382461190223694, 1.1116039156913757, 1.1140196323394775, 1.0872988402843475, 1.1036503612995148, 1.1235247552394867, 1.1124400198459625, 1.0925132036209106, 1.1082741618156433, 1.0865212082862854, 1.0989404022693634, 1.0699590593576431, 1.0971643924713135, 1.068222552537918, 1.0698477923870087, 1.0819656997919083, 1.075130581855774, 1.0946516394615173, 1.0482753813266754, 1.0921141505241394, 1.0518031567335129, 1.070329189300537, 1.0315569043159485, 1.057045727968216, 1.0435636341571808, 1.0721781253814697, 1.0307259112596512, 1.034792721271515, 1.047850862145424, 1.0409649759531021, 1.0372882038354874, 1.038917899131775, 1.0231551826000214, 1.0181624740362167, 1.0214547216892242, 1.0473040491342545, 1.0260510593652725, 1.0149055421352386, 1.0276582539081573, 1.0245430171489716, 0.9892113655805588, 1.009552776813507, 1.021134003996849, 1.013452187180519, 1.0137547105550766, 0.9739541411399841, 0.9896599054336548, 1.0021381080150604, 0.9825800210237503, 0.9837656319141388, 0.9878556728363037, 0.9839223921298981, 0.9858621954917908, 0.9560251981019974, 0.9999414533376694, 0.9724638164043427, 0.9614294618368149, 0.9861712157726288, 0.9655748009681702, 0.9631144404411316, 0.9734708815813065, 0.9599569439888, 0.9484509527683258, 0.9441966712474823, 0.9549856930971146, 0.9411291182041168, 0.9731832295656204, 0.9567050188779831, 0.9511481523513794, 0.966828390955925, 0.9443216025829315, 0.936104878783226, 0.9404892772436142, 0.9377388507127762, 0.9587354063987732, 0.934558317065239, 0.9344714283943176, 0.9307454824447632, 0.951834574341774, 0.898432657122612, 0.9387943595647812, 0.9092639982700348, 0.9162975698709488, 0.94291852414608, 0.9068952053785324, 0.9094954580068588, 0.9182484149932861, 0.9193073660135269, 0.9195786565542221, 0.9189815670251846, 0.9071760773658752, 0.9099058955907822, 0.9001166969537735, 0.9023718237876892, 0.8980937898159027, 0.9141994565725327, 0.8928763717412949, 0.9068490713834763, 0.8863691240549088, 0.8974463641643524, 0.8921297341585159, 0.9018005728721619, 0.8980606943368912, 0.88739413022995, 0.8986616432666779, 0.8910075277090073, 0.8746633380651474, 0.9074244648218155, 0.896925300359726, 0.8771793097257614, 0.8546973168849945, 0.8850359320640564, 0.8808548599481583, 0.8691360801458359, 0.8616910427808762, 0.8472667038440704, 0.861063152551651, 0.8681840300559998, 0.885618582367897, 0.8716937601566315, 0.8434564471244812, 0.8398460745811462, 0.8529300540685654, 0.8545003831386566, 0.8523721396923065, 0.8610900938510895, 0.861583024263382, 0.8590371608734131, 0.8494707345962524, 0.8481701016426086, 0.8426598906517029, 0.8386072218418121, 0.8608710020780563, 0.8693050891160965, 0.8648810088634491, 0.8427146226167679, 0.834006205201149, 0.841164767742157, 0.8355320245027542, 0.8374159336090088, 0.8227923512458801, 0.8535814434289932, 0.8366572856903076, 0.8167003244161606, 0.8500392138957977, 0.8053347170352936, 0.8255379050970078, 0.8205712735652924, 0.8287314772605896, 0.8118269294500351, 0.8311062455177307, 0.8097346276044846, 0.7861112654209137, 0.8256540596485138, 0.8168244361877441, 0.8114351481199265, 0.8388128727674484, 0.8181152492761612, 0.8170973509550095, 0.8239897191524506, 0.8223782628774643, 0.7871167361736298, 0.8154763877391815, 0.8159798979759216, 0.7993491739034653, 0.8116072863340378, 0.8020741492509842, 0.8022454231977463, 0.7926941961050034, 0.7807115614414215, 0.7995919734239578, 0.8186079859733582, 0.7954749763011932, 0.7925152033567429, 0.7845435589551926, 0.7944322824478149, 0.7828043103218079, 0.8101489245891571, 0.7932632714509964, 0.7724559307098389, 0.8094745725393295, 0.7916107773780823, 0.7764311879873276, 0.7925911992788315, 0.7821060866117477, 0.7896220833063126, 0.7746483534574509, 0.7900171726942062, 0.7848078310489655, 0.7706455737352371, 0.795656368136406, 0.7791000604629517, 0.7686767578125, 0.77102130651474, 0.7791067212820053, 0.775539293885231, 0.7764760851860046, 0.7605563253164291, 0.7609150558710098, 0.7625279873609543, 0.7639532834291458, 0.7558527588844299, 0.7613645493984222, 0.7500811964273453, 0.7667094618082047, 0.7595334649085999, 0.7506229132413864, 0.7826223224401474, 0.7772083729505539, 0.7547870576381683, 0.761342391371727, 0.7383566349744797, 0.7630747705698013, 0.7634456753730774, 0.7600860893726349, 0.744924321770668, 0.7563597410917282, 0.745963528752327, 0.762058898806572, 0.7407006472349167, 0.7555995583534241, 0.7449490129947662, 0.7471427023410797, 0.748111829161644, 0.73273865878582, 0.743741974234581, 0.7356129884719849, 0.7398577630519867, 0.757558137178421, 0.7451380640268326, 0.7330464273691177, 0.7345340102910995, 0.7560427337884903, 0.7352729588747025, 0.7132917791604996, 0.7382556200027466, 0.7314012348651886, 0.7352213114500046, 0.7299080938100815, 0.7389891296625137, 0.7291523665189743, 0.7439485639333725, 0.7180831730365753, 0.7196865379810333, 0.7368531972169876, 0.725267082452774, 0.7350649833679199, 0.7145534008741379, 0.7388397008180618, 0.7459152936935425, 0.724616751074791, 0.7286953777074814, 0.7244177758693695, 0.7203956991434097, 0.7182365506887436, 0.7315269857645035, 0.7144793719053268, 0.7159266024827957, 0.7204446494579315, 0.7340786755084991, 0.7108182609081268, 0.7287066727876663, 0.706184059381485, 0.6910676807165146, 0.7248184680938721, 0.709848627448082, 0.7231979072093964, 0.7071415185928345, 0.7041543275117874, 0.7212174236774445, 0.7131998986005783, 0.7087287306785583, 0.712725430727005, 0.6960686445236206, 0.703699380159378, 0.709835559129715, 0.675960510969162, 0.7065501064062119, 0.705028161406517, 0.681111216545105, 0.7072314620018005, 0.7033024877309799, 0.6860280781984329, 0.7058857530355453, 0.7020650655031204, 0.679142951965332, 0.6869573444128036, 0.6986659467220306, 0.7177655845880508, 0.6909953653812408, 0.7034552246332169, 0.7153391391038895, 0.6821229457855225, 0.6710841953754425, 0.676061749458313, 0.6933950483798981, 0.6797170042991638, 0.7146348804235458, 0.6891984045505524, 0.6719159781932831, 0.7025341093540192, 0.6780673116445541, 0.683057114481926, 0.6765474379062653, 0.691852867603302, 0.681022435426712, 0.689208522439003, 0.6671786308288574, 0.6848759949207306, 0.6768387705087662, 0.6783337146043777, 0.664385586977005, 0.6721094399690628, 0.6625764816999435, 0.6751521825790405, 0.6906156688928604, 0.6857430785894394, 0.6737025231122971, 0.6585741341114044, 0.6743417531251907, 0.6677256673574448, 0.6943436712026596, 0.7000551074743271, 0.6791152507066727, 0.66755610704422, 0.660959780216217, 0.6728128492832184, 0.662700816988945, 0.6688210517168045, 0.6855356097221375, 0.6720130890607834, 0.6557647138834, 0.6741442233324051, 0.6698481142520905, 0.6652757823467255, 0.6639470010995865, 0.6468017995357513, 0.6698336154222488, 0.6608686596155167, 0.6607058048248291, 0.6567327678203583, 0.6407369077205658, 0.6611524373292923, 0.654797151684761, 0.6634650081396103, 0.6559575200080872, 0.6521548181772232, 0.6637352406978607, 0.6518709063529968, 0.6415310800075531, 0.6517656892538071, 0.650020107626915, 0.6523960679769516, 0.6495425552129745, 0.6349025219678879, 0.6354938745498657, 0.6504126042127609, 0.6579459458589554, 0.6405407339334488, 0.659927636384964]\n",
            "ERROR! Session/line number was not unique in database. History logging moved to new session 60\n"
          ],
          "name": "stdout"
        }
      ]
    },
    {
      "cell_type": "code",
      "metadata": {
        "id": "AU_1ytzUbfSI",
        "colab_type": "code",
        "colab": {
          "base_uri": "https://localhost:8080/",
          "height": 34
        },
        "outputId": "c7d09706-aa0b-4839-9bb0-6f3e2dda25bd"
      },
      "source": [
        "[len(x) for x in all_mae_histories]"
      ],
      "execution_count": 32,
      "outputs": [
        {
          "output_type": "execute_result",
          "data": {
            "text/plain": [
              "[500, 500, 500, 500]"
            ]
          },
          "metadata": {
            "tags": []
          },
          "execution_count": 32
        }
      ]
    },
    {
      "cell_type": "markdown",
      "metadata": {
        "id": "Lk4_XOmrbxgZ",
        "colab_type": "text"
      },
      "source": [
        "Plotting Error"
      ]
    },
    {
      "cell_type": "code",
      "metadata": {
        "id": "MS1qZjm7XVR3",
        "colab_type": "code",
        "colab": {
          "base_uri": "https://localhost:8080/",
          "height": 279
        },
        "outputId": "0cc8bd49-3849-40cc-b1fb-09fb040fd444"
      },
      "source": [
        "plt.plot(range(1, len(average_mae_history) + 1), average_mae_history)\n",
        "plt.xlabel('Epochs')\n",
        "plt.ylabel('Validation MAE')\n",
        "plt.show()"
      ],
      "execution_count": 33,
      "outputs": [
        {
          "output_type": "display_data",
          "data": {
            "image/png": "[encoded data removed]",
            "text/plain": [
              "<Figure size 432x288 with 1 Axes>"
            ]
          },
          "metadata": {
            "tags": []
          }
        }
      ]
    },
    {
      "cell_type": "code",
      "metadata": {
        "id": "TVApvP8acK1Y",
        "colab_type": "code",
        "colab": {
          "base_uri": "https://localhost:8080/",
          "height": 296
        },
        "outputId": "df4679ab-56c1-4516-bb37-b4341d67dee3"
      },
      "source": [
        "def smooth_curve(points, factor=0.9):\n",
        "    smoothed_points = []\n",
        "    for point in points:\n",
        "        if smoothed_points:\n",
        "            previous = smoothed_points[-1]\n",
        "            smoothed_points.append(previous * factor + point * (1 - factor))\n",
        "        else:\n",
        "            smoothed_points.append(point)\n",
        "    return smoothed_points\n",
        "smooth_mae_history = smooth_curve(average_mae_history[10:])\n",
        "plt.plot(range(1, len(smooth_mae_history) + 1), smooth_mae_history)\n",
        "plt.xlabel('Epochs')\n",
        "plt.ylabel('Validation MAE')\n",
        "plt.show()"
      ],
      "execution_count": 34,
      "outputs": [
        {
          "output_type": "stream",
          "text": [
            "ERROR! Session/line number was not unique in database. History logging moved to new session 61\n"
          ],
          "name": "stdout"
        },
        {
          "output_type": "display_data",
          "data": {
            "image/png": "[encoded data removed]",
            "text/plain": [
              "<Figure size 432x288 with 1 Axes>"
            ]
          },
          "metadata": {
            "tags": []
          }
        }
      ]
    },
    {
      "cell_type": "markdown",
      "metadata": {
        "id": "drcN-EbXdFL6",
        "colab_type": "text"
      },
      "source": [
        "## Training final model"
      ]
    },
    {
      "cell_type": "code",
      "metadata": {
        "id": "1YkhbSnAcLB-",
        "colab_type": "code",
        "colab": {
          "base_uri": "https://localhost:8080/",
          "height": 34
        },
        "outputId": "77a03a10-fdee-4068-e691-eb33136960e5"
      },
      "source": [
        "model = build_model()\n",
        "model.fit(train_data, train_targets,\n",
        "epochs=80, batch_size=16, verbose=0)\n",
        "test_mse_score, test_mae_score = model.evaluate(test_data, test_targets)"
      ],
      "execution_count": 35,
      "outputs": [
        {
          "output_type": "stream",
          "text": [
            "4/4 [==============================] - 0s 2ms/step - loss: 38.6686 - mae: 2.5263\n"
          ],
          "name": "stdout"
        }
      ]
    },
    {
      "cell_type": "code",
      "metadata": {
        "id": "Q0PuZdPxdXY_",
        "colab_type": "code",
        "colab": {
          "base_uri": "https://localhost:8080/",
          "height": 34
        },
        "outputId": "b3db7b26-59fb-46a6-9099-9ae7b1bee7d8"
      },
      "source": [
        "test_mae_score"
      ],
      "execution_count": 36,
      "outputs": [
        {
          "output_type": "execute_result",
          "data": {
            "text/plain": [
              "2.5263140201568604"
            ]
          },
          "metadata": {
            "tags": []
          },
          "execution_count": 36
        }
      ]
    }
  ]
}