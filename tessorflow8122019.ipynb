{
 "cells": [
  {
   "cell_type": "code",
   "execution_count": 1,
   "metadata": {},
   "outputs": [],
   "source": [
    "import tensorflow"
   ]
  },
  {
   "cell_type": "code",
   "execution_count": null,
   "metadata": {},
   "outputs": [],
   "source": [
    "Chapter 1 Fundamentals\n",
    "\n",
    "\n",
    "what is deep learning \n",
    "    a machine learning algorithm\n",
    "    machine learning is an AI algo\n",
    "    machine learning has a lot of algos one of which is machine learning\n",
    "    deep learning <-> neural network\n"
   ]
  },
  {
   "cell_type": "code",
   "execution_count": null,
   "metadata": {},
   "outputs": [],
   "source": [
    "what is meant by intellectual task\n",
    "    a task done rightly. best possible way to solve a task. decision making with no guidelines. \n",
    "    learning with practise increases learning capability and so performance. \n",
    "    "
   ]
  },
  {
   "cell_type": "code",
   "execution_count": null,
   "metadata": {},
   "outputs": [],
   "source": [
    "symbolic AI\n",
    "  hardcoded decisions\n",
    "    then came expert AIs"
   ]
  },
  {
   "cell_type": "code",
   "execution_count": null,
   "metadata": {},
   "outputs": [],
   "source": [
    "linear eq : function which gives a straight line\n",
    "    y = 4x - 1\n",
    "    value being inserted is independent value obtained is dependent.\n",
    "      classical approach: keep entering x values y will be output. (rule+input)\n",
    "      \n",
    "      give x and y find eq ----> expert /// machine learning ///found rule gave input and outputzz\n",
    "    "
   ]
  }
 ],
 "metadata": {
  "kernelspec": {
   "display_name": "Python 3",
   "language": "python",
   "name": "python3"
  },
  "language_info": {
   "codemirror_mode": {
    "name": "ipython",
    "version": 3
   },
   "file_extension": ".py",
   "mimetype": "text/x-python",
   "name": "python",
   "nbconvert_exporter": "python",
   "pygments_lexer": "ipython3",
   "version": "3.7.3"
  }
 },
 "nbformat": 4,
 "nbformat_minor": 2
}
